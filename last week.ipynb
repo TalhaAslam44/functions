{
 "cells": [
  {
   "cell_type": "code",
   "execution_count": 1,
   "id": "f1b96641",
   "metadata": {},
   "outputs": [],
   "source": [
    "import numpy as np"
   ]
  },
  {
   "cell_type": "code",
   "execution_count": 2,
   "id": "dd2cdc72",
   "metadata": {},
   "outputs": [],
   "source": [
    "import matplotlib.pyplot as plt"
   ]
  },
  {
   "cell_type": "code",
   "execution_count": 3,
   "id": "59147fbf",
   "metadata": {},
   "outputs": [],
   "source": [
    "a=5"
   ]
  },
  {
   "cell_type": "code",
   "execution_count": 4,
   "id": "b11d6c0c",
   "metadata": {},
   "outputs": [],
   "source": [
    "b=5"
   ]
  },
  {
   "cell_type": "code",
   "execution_count": 6,
   "id": "fcfc1d5d",
   "metadata": {},
   "outputs": [
    {
     "name": "stdout",
     "output_type": "stream",
     "text": [
      "my name is Talha\n"
     ]
    }
   ],
   "source": [
    "if a==b:\n",
    "    print(\"my name is Talha\")\n",
    "   "
   ]
  },
  {
   "cell_type": "code",
   "execution_count": 7,
   "id": "d86d41fe",
   "metadata": {},
   "outputs": [
    {
     "name": "stdout",
     "output_type": "stream",
     "text": [
      "0\n",
      "1\n",
      "2\n",
      "3\n"
     ]
    }
   ],
   "source": [
    "a=4\n",
    "if a==4:\n",
    "    for i in range(a):\n",
    "        print(i)"
   ]
  },
  {
   "cell_type": "code",
   "execution_count": 8,
   "id": "7de4673d",
   "metadata": {},
   "outputs": [],
   "source": [
    "x=5"
   ]
  },
  {
   "cell_type": "code",
   "execution_count": 9,
   "id": "908d1e08",
   "metadata": {},
   "outputs": [],
   "source": [
    "f= lambda x: 2*(x**2)+2"
   ]
  },
  {
   "cell_type": "code",
   "execution_count": 10,
   "id": "3f3eba0f",
   "metadata": {},
   "outputs": [
    {
     "name": "stdout",
     "output_type": "stream",
     "text": [
      "52\n"
     ]
    }
   ],
   "source": [
    "print(f(x))"
   ]
  },
  {
   "cell_type": "code",
   "execution_count": 12,
   "id": "470b2705",
   "metadata": {},
   "outputs": [
    {
     "name": "stdout",
     "output_type": "stream",
     "text": [
      "enter x1:0.2384\n"
     ]
    }
   ],
   "source": [
    "x1= float(input(\"enter x1:\"))"
   ]
  },
  {
   "cell_type": "code",
   "execution_count": 14,
   "id": "b8e2ceac",
   "metadata": {},
   "outputs": [
    {
     "name": "stdout",
     "output_type": "stream",
     "text": [
      "enter x2:2.3984\n"
     ]
    }
   ],
   "source": [
    "x2= float(input('enter x2:'))"
   ]
  },
  {
   "cell_type": "code",
   "execution_count": 15,
   "id": "c065ab84",
   "metadata": {},
   "outputs": [
    {
     "name": "stdout",
     "output_type": "stream",
     "text": [
      "2.6368\n"
     ]
    }
   ],
   "source": [
    "print(x1+x2)"
   ]
  },
  {
   "cell_type": "code",
   "execution_count": 38,
   "id": "f1b7595c",
   "metadata": {},
   "outputs": [
    {
     "ename": "SyntaxError",
     "evalue": "'return' outside function (Temp/ipykernel_5348/3788569541.py, line 5)",
     "output_type": "error",
     "traceback": [
      "\u001b[1;36m  File \u001b[1;32m\"C:\\Users\\CL-1\\AppData\\Local\\Temp/ipykernel_5348/3788569541.py\"\u001b[1;36m, line \u001b[1;32m5\u001b[0m\n\u001b[1;33m    return t\u001b[0m\n\u001b[1;37m    ^\u001b[0m\n\u001b[1;31mSyntaxError\u001b[0m\u001b[1;31m:\u001b[0m 'return' outside function\n"
     ]
    }
   ],
   "source": [
    "t = 1\n",
    "\n",
    "def talha(t):\n",
    "    t += 1\n",
    "return t\n",
    "\n",
    "talha(t)"
   ]
  },
  {
   "cell_type": "code",
   "execution_count": null,
   "id": "ea271676",
   "metadata": {},
   "outputs": [],
   "source": []
  },
  {
   "cell_type": "code",
   "execution_count": null,
   "id": "449d5421",
   "metadata": {},
   "outputs": [],
   "source": []
  }
 ],
 "metadata": {
  "kernelspec": {
   "display_name": "Python 3 (ipykernel)",
   "language": "python",
   "name": "python3"
  },
  "language_info": {
   "codemirror_mode": {
    "name": "ipython",
    "version": 3
   },
   "file_extension": ".py",
   "mimetype": "text/x-python",
   "name": "python",
   "nbconvert_exporter": "python",
   "pygments_lexer": "ipython3",
   "version": "3.9.7"
  }
 },
 "nbformat": 4,
 "nbformat_minor": 5
}
